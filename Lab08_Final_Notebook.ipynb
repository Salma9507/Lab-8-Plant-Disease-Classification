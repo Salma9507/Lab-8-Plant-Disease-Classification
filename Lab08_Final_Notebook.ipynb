{
  "cells": [
    {
      "cell_type": "markdown",
      "metadata": {
        "id": "view-in-github",
        "colab_type": "text"
      },
      "source": [
        "<a href=\"https://colab.research.google.com/github/Salma9507/Lab-8-Plant-Disease-Classification/blob/main/Lab08_Final_Notebook.ipynb\" target=\"_parent\"><img src=\"https://colab.research.google.com/assets/colab-badge.svg\" alt=\"Open In Colab\"/></a>"
      ]
    },
    {
      "cell_type": "markdown",
      "id": "722a7010",
      "metadata": {
        "id": "722a7010"
      },
      "source": [
        "# Lab08: Plant Disease Classification\n"
      ]
    },
    {
      "cell_type": "code",
      "execution_count": 1,
      "id": "80c7ad01",
      "metadata": {
        "id": "80c7ad01"
      },
      "outputs": [],
      "source": [
        "import tensorflow as tf\n",
        "from tensorflow.keras.models import Sequential\n",
        "from tensorflow.keras.layers import Input, Conv2D, MaxPooling2D, Flatten, Dense, Dropout\n",
        "from tensorflow.keras.preprocessing.image import ImageDataGenerator\n",
        "from tensorflow.keras.models import save_model, load_model\n",
        "from sklearn.model_selection import ParameterGrid\n",
        "import numpy as np\n",
        "import os\n"
      ]
    },
    {
      "cell_type": "code",
      "execution_count": 2,
      "id": "723d5c83",
      "metadata": {
        "colab": {
          "base_uri": "https://localhost:8080/"
        },
        "id": "723d5c83",
        "outputId": "31065965-cf24-4767-d32a-a2d87d31eee3"
      },
      "outputs": [
        {
          "output_type": "stream",
          "name": "stdout",
          "text": [
            "Downloading...\n",
            "From (original): https://drive.google.com/uc?id=1MCQ2ldiKZUeVM1rVw1gPlBaX43AJB3R0\n",
            "From (redirected): https://drive.google.com/uc?id=1MCQ2ldiKZUeVM1rVw1gPlBaX43AJB3R0&confirm=t&uuid=2c008f80-a067-4f3b-8414-792d0ab4a3c1\n",
            "To: /content/plant_leave_diseases_train.zip\n",
            "100% 682M/682M [00:07<00:00, 88.5MB/s]\n",
            "Downloading...\n",
            "From (original): https://drive.google.com/uc?id=1yqvfEVeb0IAutxZK83_wUoUWm5apYSF8\n",
            "From (redirected): https://drive.google.com/uc?id=1yqvfEVeb0IAutxZK83_wUoUWm5apYSF8&confirm=t&uuid=59f84ccc-d51b-491a-af90-8b177a22791e\n",
            "To: /content/plant_leave_diseases_test.zip\n",
            "100% 170M/170M [00:02<00:00, 71.9MB/s]\n"
          ]
        }
      ],
      "source": [
        "!pip install -q gdown\n",
        "!gdown https://drive.google.com/uc?id=1MCQ2ldiKZUeVM1rVw1gPlBaX43AJB3R0  # Train\n",
        "!gdown https://drive.google.com/uc?id=1yqvfEVeb0IAutxZK83_wUoUWm5apYSF8  # Test\n",
        "\n",
        "import zipfile\n",
        "\n",
        "with zipfile.ZipFile('plant_leave_diseases_train.zip', 'r') as zip_file:\n",
        "    zip_file.extractall()\n",
        "\n",
        "with zipfile.ZipFile('plant_leave_diseases_test.zip', 'r') as zip_file:\n",
        "    zip_file.extractall()\n"
      ]
    },
    {
      "cell_type": "code",
      "execution_count": 3,
      "id": "de65453c",
      "metadata": {
        "id": "de65453c"
      },
      "outputs": [],
      "source": [
        "train_data_dir = 'plant_leave_diseases_train'\n",
        "img_size = (256, 256)\n",
        "batch_size = 32\n",
        "\n",
        "datagen = ImageDataGenerator(rescale=1./255, validation_split=0.2)\n"
      ]
    },
    {
      "cell_type": "code",
      "execution_count": 4,
      "id": "63204a69",
      "metadata": {
        "id": "63204a69"
      },
      "outputs": [],
      "source": [
        "param_grid = {\n",
        "    'activation': ['relu', 'tanh'],\n",
        "    'optimizer': ['adam', 'rmsprop'],\n",
        "    'dense_units': [64, 128],\n",
        "    'dropout_rate': [0.0, 0.5]\n",
        "}\n",
        "\n",
        "def create_model(activation='relu', optimizer='adam', dense_units=128, dropout_rate=0.0, num_classes=15):\n",
        "    model = Sequential([\n",
        "        Input(shape=(img_size[0], img_size[1], 3)),\n",
        "        Conv2D(32, (3, 3), activation=activation),\n",
        "        MaxPooling2D((2, 2)),\n",
        "        Conv2D(64, (3, 3), activation=activation),\n",
        "        MaxPooling2D((2, 2)),\n",
        "        Conv2D(128, (3, 3), activation=activation),\n",
        "        MaxPooling2D((2, 2)),\n",
        "        Flatten(),\n",
        "        Dense(dense_units, activation=activation),\n",
        "        Dropout(dropout_rate),\n",
        "        Dense(num_classes, activation='softmax')\n",
        "    ])\n",
        "    model.compile(optimizer=optimizer, loss='categorical_crossentropy', metrics=['accuracy'])\n",
        "    return model\n"
      ]
    },
    {
      "cell_type": "code",
      "execution_count": null,
      "id": "bcc62718",
      "metadata": {
        "colab": {
          "background_save": true,
          "base_uri": "https://localhost:8080/"
        },
        "id": "bcc62718",
        "outputId": "e2d0476a-8175-43d7-f67e-b51581a04a95"
      },
      "outputs": [
        {
          "output_type": "stream",
          "name": "stdout",
          "text": [
            "Testing: {'activation': 'relu', 'dense_units': 64, 'dropout_rate': 0.0, 'optimizer': 'adam'}\n",
            "Found 34756 images belonging to 38 classes.\n",
            "Found 8673 images belonging to 38 classes.\n",
            "Epoch 1/2\n"
          ]
        },
        {
          "output_type": "stream",
          "name": "stderr",
          "text": [
            "/usr/local/lib/python3.11/dist-packages/keras/src/trainers/data_adapters/py_dataset_adapter.py:121: UserWarning: Your `PyDataset` class should call `super().__init__(**kwargs)` in its constructor. `**kwargs` can include `workers`, `use_multiprocessing`, `max_queue_size`. Do not pass these arguments to `fit()`, as they will be ignored.\n",
            "  self._warn_if_super_not_called()\n"
          ]
        },
        {
          "output_type": "stream",
          "name": "stdout",
          "text": [
            "\u001b[1m  43/1087\u001b[0m \u001b[37m━━━━━━━━━━━━━━━━━━━━\u001b[0m \u001b[1m1:15:34\u001b[0m 4s/step - accuracy: 0.0868 - loss: 3.8062"
          ]
        }
      ],
      "source": [
        "best_val_acc = 0\n",
        "best_params = None\n",
        "os.makedirs(\"saved_models\", exist_ok=True)\n",
        "\n",
        "for params in ParameterGrid(param_grid):\n",
        "    print(f\"Testing: {params}\")\n",
        "    train_gen = datagen.flow_from_directory(\n",
        "        train_data_dir,\n",
        "        target_size=img_size,\n",
        "        batch_size=batch_size,\n",
        "        class_mode='categorical',\n",
        "        subset='training'\n",
        "    )\n",
        "    val_gen = datagen.flow_from_directory(\n",
        "        train_data_dir,\n",
        "        target_size=img_size,\n",
        "        batch_size=batch_size,\n",
        "        class_mode='categorical',\n",
        "        subset='validation'\n",
        "    )\n",
        "\n",
        "    num_classes = train_gen.num_classes\n",
        "    model = create_model(\n",
        "        activation=params['activation'],\n",
        "        optimizer=params['optimizer'],\n",
        "        dense_units=params['dense_units'],\n",
        "        dropout_rate=params['dropout_rate'],\n",
        "        num_classes=num_classes\n",
        "    )\n",
        "    history = model.fit(train_gen, validation_data=val_gen, epochs=2)\n",
        "\n",
        "    val_acc = history.history['val_accuracy'][-1]\n",
        "    print(f\"Validation accuracy: {val_acc:.4f}\")\n",
        "\n",
        "    model_name = (\n",
        "        f\"model_act-{params['activation']}_opt-{params['optimizer']}_\"\n",
        "        f\"units-{params['dense_units']}_drop-{params['dropout_rate']}_\"\n",
        "        f\"acc-{val_acc:.4f}.h5\"\n",
        "    )\n",
        "    model_path = os.path.join(\"saved_models\", model_name)\n",
        "    save_model(model, model_path)\n",
        "\n",
        "    if val_acc > best_val_acc:\n",
        "        best_val_acc = val_acc\n",
        "        best_params = params\n",
        "        best_model_path = model_path\n",
        "\n",
        "print(\"\\nBest parameters:\")\n",
        "print(best_params)\n",
        "print(f\"Best validation accuracy: {best_val_acc:.4f}\")\n",
        "print(f\"Best model saved at: {best_model_path}\")\n"
      ]
    },
    {
      "cell_type": "code",
      "execution_count": null,
      "id": "eb566305",
      "metadata": {
        "id": "eb566305"
      },
      "outputs": [],
      "source": [
        "best_model = load_model(best_model_path)\n",
        "print(\"Loaded best model:\", best_model_path)\n"
      ]
    },
    {
      "cell_type": "code",
      "source": [],
      "metadata": {
        "id": "nOFFb09aBoRu"
      },
      "id": "nOFFb09aBoRu",
      "execution_count": null,
      "outputs": []
    }
  ],
  "metadata": {
    "colab": {
      "provenance": [],
      "include_colab_link": true
    },
    "kernelspec": {
      "display_name": "Python 3",
      "name": "python3"
    },
    "language_info": {
      "name": "python"
    }
  },
  "nbformat": 4,
  "nbformat_minor": 5
}