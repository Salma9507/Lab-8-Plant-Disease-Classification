{
  "cells": [
    {
      "cell_type": "markdown",
      "metadata": {
        "id": "view-in-github",
        "colab_type": "text"
      },
      "source": [
        "<a href=\"https://colab.research.google.com/github/Salma9507/Lab-8-Plant-Disease-Classification/blob/main/Lab08_Final_Notebook.ipynb\" target=\"_parent\"><img src=\"https://colab.research.google.com/assets/colab-badge.svg\" alt=\"Open In Colab\"/></a>"
      ]
    },
    {
      "cell_type": "markdown",
      "id": "722a7010",
      "metadata": {
        "id": "722a7010"
      },
      "source": [
        "# Lab08: Plant Disease Classification\n"
      ]
    },
    {
      "cell_type": "code",
      "execution_count": 7,
      "id": "80c7ad01",
      "metadata": {
        "id": "80c7ad01"
      },
      "outputs": [],
      "source": [
        "import tensorflow as tf\n",
        "from tensorflow.keras.models import Sequential\n",
        "from tensorflow.keras.layers import Input, Conv2D, MaxPooling2D, Flatten, Dense, Dropout\n",
        "from tensorflow.keras.preprocessing.image import ImageDataGenerator\n",
        "from tensorflow.keras.models import save_model, load_model\n",
        "from sklearn.model_selection import ParameterGrid\n",
        "import numpy as np\n",
        "import os\n"
      ]
    },
    {
      "cell_type": "code",
      "execution_count": 8,
      "id": "723d5c83",
      "metadata": {
        "colab": {
          "base_uri": "https://localhost:8080/"
        },
        "id": "723d5c83",
        "outputId": "4e071b7e-80f7-4d7c-b82d-a74de44b7811"
      },
      "outputs": [
        {
          "output_type": "stream",
          "name": "stdout",
          "text": [
            "Downloading...\n",
            "From (original): https://drive.google.com/uc?id=1MCQ2ldiKZUeVM1rVw1gPlBaX43AJB3R0\n",
            "From (redirected): https://drive.google.com/uc?id=1MCQ2ldiKZUeVM1rVw1gPlBaX43AJB3R0&confirm=t&uuid=8db5986e-8677-4ecb-8836-6b1dae047876\n",
            "To: /content/plant_leave_diseases_train.zip\n",
            "100% 682M/682M [00:08<00:00, 77.6MB/s]\n",
            "Downloading...\n",
            "From (original): https://drive.google.com/uc?id=1yqvfEVeb0IAutxZK83_wUoUWm5apYSF8\n",
            "From (redirected): https://drive.google.com/uc?id=1yqvfEVeb0IAutxZK83_wUoUWm5apYSF8&confirm=t&uuid=decd6a16-659a-4e8c-97d4-6caebdd825cd\n",
            "To: /content/plant_leave_diseases_test.zip\n",
            "100% 170M/170M [00:02<00:00, 73.9MB/s]\n"
          ]
        }
      ],
      "source": [
        "!pip install -q gdown\n",
        "!gdown https://drive.google.com/uc?id=1MCQ2ldiKZUeVM1rVw1gPlBaX43AJB3R0  # Train\n",
        "!gdown https://drive.google.com/uc?id=1yqvfEVeb0IAutxZK83_wUoUWm5apYSF8  # Test\n",
        "\n",
        "import zipfile\n",
        "\n",
        "with zipfile.ZipFile('plant_leave_diseases_train.zip', 'r') as zip_file:\n",
        "    zip_file.extractall()\n",
        "\n",
        "with zipfile.ZipFile('plant_leave_diseases_test.zip', 'r') as zip_file:\n",
        "    zip_file.extractall()\n"
      ]
    },
    {
      "cell_type": "code",
      "execution_count": 9,
      "id": "de65453c",
      "metadata": {
        "id": "de65453c"
      },
      "outputs": [],
      "source": [
        "train_data_dir = 'plant_leave_diseases_train'\n",
        "img_size = (256, 256)\n",
        "batch_size = 32\n",
        "\n",
        "datagen = ImageDataGenerator(rescale=1./255, validation_split=0.2)\n"
      ]
    },
    {
      "cell_type": "code",
      "execution_count": 10,
      "id": "63204a69",
      "metadata": {
        "id": "63204a69"
      },
      "outputs": [],
      "source": [
        "param_grid = {\n",
        "    'activation': ['relu', 'tanh'],\n",
        "    'optimizer': ['adam', 'rmsprop'],\n",
        "    'dense_units': [64, 128],\n",
        "    'dropout_rate': [0.0, 0.5]\n",
        "}\n",
        "\n",
        "def create_model(activation='relu', optimizer='adam', dense_units=128, dropout_rate=0.0, num_classes=15):\n",
        "    model = Sequential([\n",
        "        Input(shape=(img_size[0], img_size[1], 3)),\n",
        "        Conv2D(32, (3, 3), activation=activation),\n",
        "        MaxPooling2D((2, 2)),\n",
        "        Conv2D(64, (3, 3), activation=activation),\n",
        "        MaxPooling2D((2, 2)),\n",
        "        Conv2D(128, (3, 3), activation=activation),\n",
        "        MaxPooling2D((2, 2)),\n",
        "        Flatten(),\n",
        "        Dense(dense_units, activation=activation),\n",
        "        Dropout(dropout_rate),\n",
        "        Dense(num_classes, activation='softmax')\n",
        "    ])\n",
        "    model.compile(optimizer=optimizer, loss='categorical_crossentropy', metrics=['accuracy'])\n",
        "    return model\n"
      ]
    },
    {
      "cell_type": "code",
      "execution_count": null,
      "id": "bcc62718",
      "metadata": {
        "colab": {
          "base_uri": "https://localhost:8080/"
        },
        "id": "bcc62718",
        "outputId": "f5e58567-d1da-42c1-b8c4-5ff1dd397b5e"
      },
      "outputs": [
        {
          "metadata": {
            "tags": null
          },
          "name": "stdout",
          "output_type": "stream",
          "text": [
            "Testing: {'activation': 'relu', 'dense_units': 64, 'dropout_rate': 0.0, 'optimizer': 'adam'}\n",
            "Found 34756 images belonging to 38 classes.\n",
            "Found 8673 images belonging to 38 classes.\n"
          ]
        },
        {
          "metadata": {
            "tags": null
          },
          "name": "stderr",
          "output_type": "stream",
          "text": [
            "/usr/local/lib/python3.11/dist-packages/keras/src/trainers/data_adapters/py_dataset_adapter.py:121: UserWarning: Your `PyDataset` class should call `super().__init__(**kwargs)` in its constructor. `**kwargs` can include `workers`, `use_multiprocessing`, `max_queue_size`. Do not pass these arguments to `fit()`, as they will be ignored.\n",
            "  self._warn_if_super_not_called()\n"
          ]
        },
        {
          "output_type": "stream",
          "name": "stdout",
          "text": [
            "Epoch 1/2\n",
            "\u001b[1m1087/1087\u001b[0m \u001b[32m━━━━━━━━━━━━━━━━━━━━\u001b[0m\u001b[37m\u001b[0m \u001b[1m4758s\u001b[0m 4s/step - accuracy: 0.4369 - loss: 2.1449 - val_accuracy: 0.7928 - val_loss: 0.6808\n",
            "Epoch 2/2\n",
            "\u001b[1m1087/1087\u001b[0m \u001b[32m━━━━━━━━━━━━━━━━━━━━\u001b[0m\u001b[37m\u001b[0m \u001b[1m4797s\u001b[0m 4s/step - accuracy: 0.8206 - loss: 0.5824 - val_accuracy: 0.8426 - val_loss: 0.5003\n"
          ]
        },
        {
          "output_type": "stream",
          "name": "stderr",
          "text": [
            "WARNING:absl:You are saving your model as an HDF5 file via `model.save()` or `keras.saving.save_model(model)`. This file format is considered legacy. We recommend using instead the native Keras format, e.g. `model.save('my_model.keras')` or `keras.saving.save_model(model, 'my_model.keras')`. \n"
          ]
        },
        {
          "output_type": "stream",
          "name": "stdout",
          "text": [
            "Validation accuracy: 0.8426\n",
            "Testing: {'activation': 'relu', 'dense_units': 64, 'dropout_rate': 0.0, 'optimizer': 'rmsprop'}\n",
            "Found 34756 images belonging to 38 classes.\n",
            "Found 8673 images belonging to 38 classes.\n",
            "Epoch 1/2\n",
            "\u001b[1m 326/1087\u001b[0m \u001b[32m━━━━━\u001b[0m\u001b[37m━━━━━━━━━━━━━━━\u001b[0m \u001b[1m51:36\u001b[0m 4s/step - accuracy: 0.2158 - loss: 3.2062"
          ]
        }
      ],
      "source": [
        "best_val_acc = 0\n",
        "best_params = None\n",
        "os.makedirs(\"saved_models\", exist_ok=True)\n",
        "\n",
        "for params in ParameterGrid(param_grid):\n",
        "    print(f\"Testing: {params}\")\n",
        "    train_gen = datagen.flow_from_directory(\n",
        "        train_data_dir,\n",
        "        target_size=img_size,\n",
        "        batch_size=batch_size,\n",
        "        class_mode='categorical',\n",
        "        subset='training'\n",
        "    )\n",
        "    val_gen = datagen.flow_from_directory(\n",
        "        train_data_dir,\n",
        "        target_size=img_size,\n",
        "        batch_size=batch_size,\n",
        "        class_mode='categorical',\n",
        "        subset='validation'\n",
        "    )\n",
        "\n",
        "    num_classes = train_gen.num_classes\n",
        "    model = create_model(\n",
        "        activation=params['activation'],\n",
        "        optimizer=params['optimizer'],\n",
        "        dense_units=params['dense_units'],\n",
        "        dropout_rate=params['dropout_rate'],\n",
        "        num_classes=num_classes\n",
        "    )\n",
        "    history = model.fit(train_gen, validation_data=val_gen, epochs=2)\n",
        "\n",
        "    val_acc = history.history['val_accuracy'][-1]\n",
        "    print(f\"Validation accuracy: {val_acc:.4f}\")\n",
        "\n",
        "    model_name = (\n",
        "        f\"model_act-{params['activation']}_opt-{params['optimizer']}_\"\n",
        "        f\"units-{params['dense_units']}_drop-{params['dropout_rate']}_\"\n",
        "        f\"acc-{val_acc:.4f}.h5\"\n",
        "    )\n",
        "    model_path = os.path.join(\"saved_models\", model_name)\n",
        "    save_model(model, model_path)\n",
        "\n",
        "    if val_acc > best_val_acc:\n",
        "        best_val_acc = val_acc\n",
        "        best_params = params\n",
        "        best_model_path = model_path\n",
        "\n",
        "print(\"\\nBest parameters:\")\n",
        "print(best_params)\n",
        "print(f\"Best validation accuracy: {best_val_acc:.4f}\")\n",
        "\n",
        "print(f\"Best model saved at: {best_model_path}\")\n"
      ]
    },
    {
      "cell_type": "code",
      "execution_count": null,
      "id": "eb566305",
      "metadata": {
        "id": "eb566305"
      },
      "outputs": [],
      "source": [
        "best_model = load_model(best_model_path)\n",
        "print(\"Loaded best model:\", best_model_path)\n"
      ]
    },
    {
      "cell_type": "code",
      "execution_count": null,
      "id": "nOFFb09aBoRu",
      "metadata": {
        "id": "nOFFb09aBoRu"
      },
      "outputs": [],
      "source": []
    }
  ],
  "metadata": {
    "colab": {
      "provenance": [],
      "include_colab_link": true
    },
    "kernelspec": {
      "display_name": "Python 3",
      "name": "python3"
    },
    "language_info": {
      "name": "python"
    }
  },
  "nbformat": 4,
  "nbformat_minor": 5
}